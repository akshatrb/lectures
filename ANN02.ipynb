{
  "nbformat": 4,
  "nbformat_minor": 0,
  "metadata": {
    "kernelspec": {
      "display_name": "Python 3",
      "language": "python",
      "name": "python3"
    },
    "language_info": {
      "codemirror_mode": {
        "name": "ipython",
        "version": 3
      },
      "file_extension": ".py",
      "mimetype": "text/x-python",
      "name": "python",
      "nbconvert_exporter": "python",
      "pygments_lexer": "ipython3",
      "version": "3.8.5"
    },
    "colab": {
      "name": "ANN02.ipynb",
      "provenance": [],
      "collapsed_sections": [],
      "include_colab_link": true
    }
  },
  "cells": [
    {
      "cell_type": "markdown",
      "metadata": {
        "id": "view-in-github",
        "colab_type": "text"
      },
      "source": [
        "<a href=\"https://colab.research.google.com/github/akshatrb/lectures/blob/main/ANN02.ipynb\" target=\"_parent\"><img src=\"https://colab.research.google.com/assets/colab-badge.svg\" alt=\"Open In Colab\"/></a>"
      ]
    },
    {
      "cell_type": "markdown",
      "metadata": {
        "id": "JVVaCznud4eV"
      },
      "source": [
        "# ANN 02 - LR using Perceptron"
      ]
    },
    {
      "cell_type": "code",
      "metadata": {
        "id": "bsPxEjsWZgZx"
      },
      "source": [
        "import numpy as np\n",
        "from numpy import array\n",
        "import random \n",
        "import matplotlib.pyplot as plt"
      ],
      "execution_count": 1,
      "outputs": []
    },
    {
      "cell_type": "code",
      "metadata": {
        "id": "p7C6nHO8ZgZ0"
      },
      "source": [
        "x = 0\n",
        "y = 0\n",
        "y_pred = 0\n",
        "error =0\n",
        "w_new = 0\n",
        "b_new =0\n",
        "X = np.arange(1,101)\n",
        "Y = []\n",
        " \n",
        "for i in range(0,100):\n",
        "    Y_0 = 3*X[i] + random.randint(1,10)\n",
        "    Y.append(Y_0)"
      ],
      "execution_count": 10,
      "outputs": []
    },
    {
      "cell_type": "code",
      "metadata": {
        "colab": {
          "base_uri": "https://localhost:8080/"
        },
        "id": "8q0dZGt_ZgZ1",
        "outputId": "b3e4a400-8290-441f-e805-41512d1e3623"
      },
      "source": [
        "w=0\n",
        "b=0\n",
        "weights =[]\n",
        "bias = []\n",
        "eta = 0.0001\n",
        "epochs = 100\n",
        "print(X)\n",
        "print(Y)"
      ],
      "execution_count": 12,
      "outputs": [
        {
          "output_type": "stream",
          "text": [
            "[  1   2   3   4   5   6   7   8   9  10  11  12  13  14  15  16  17  18\n",
            "  19  20  21  22  23  24  25  26  27  28  29  30  31  32  33  34  35  36\n",
            "  37  38  39  40  41  42  43  44  45  46  47  48  49  50  51  52  53  54\n",
            "  55  56  57  58  59  60  61  62  63  64  65  66  67  68  69  70  71  72\n",
            "  73  74  75  76  77  78  79  80  81  82  83  84  85  86  87  88  89  90\n",
            "  91  92  93  94  95  96  97  98  99 100]\n",
            "[4, 15, 11, 20, 25, 25, 22, 29, 32, 32, 38, 37, 44, 48, 46, 54, 56, 58, 63, 69, 64, 67, 76, 77, 81, 84, 91, 89, 89, 94, 99, 102, 100, 107, 115, 110, 120, 124, 120, 124, 127, 127, 137, 138, 144, 145, 145, 149, 156, 160, 162, 165, 167, 169, 174, 176, 177, 180, 186, 190, 193, 196, 190, 197, 201, 201, 210, 206, 211, 213, 214, 218, 222, 230, 235, 231, 236, 243, 246, 249, 244, 251, 259, 259, 264, 266, 262, 267, 272, 278, 281, 286, 280, 285, 294, 296, 301, 302, 307, 303]\n"
          ],
          "name": "stdout"
        }
      ]
    },
    {
      "cell_type": "code",
      "metadata": {
        "id": "jtMwP2Q5ZgZ3"
      },
      "source": [
        "for i in range(0,100):\n",
        "    x =X[i]\n",
        "    y = Y[i] \n",
        "    w =0 #weight\n",
        "    b =0 #bias\n",
        "    for i in range(epochs):\n",
        "        y_pred = x*w + b\n",
        "        error = y - y_pred\n",
        "        w_new = w + eta*error*x\n",
        "        b_new = b + eta*error\n",
        "        w = w_new\n",
        "        b = b_new\n",
        "        if error < 0.1:\n",
        "            w =0\n",
        "            b =0\n",
        "            error =0\n",
        "            break\n",
        "    weights.append(w_new)\n",
        "    bias.append(b_new)"
      ],
      "execution_count": 13,
      "outputs": []
    },
    {
      "cell_type": "code",
      "metadata": {
        "id": "spxb-SLRZgZ3"
      },
      "source": [
        "w_final = np.median(weights)\n",
        "b_final = np.median(bias)\n",
        "Y_PRED = w_final*X + b_final\n"
      ],
      "execution_count": 14,
      "outputs": []
    },
    {
      "cell_type": "code",
      "metadata": {
        "colab": {
          "base_uri": "https://localhost:8080/",
          "height": 499
        },
        "id": "nQeV1BGPZgZ4",
        "outputId": "fbc77bad-2dd0-4ff7-a640-cf78160c3e32"
      },
      "source": [
        "MSE = np.square(np.subtract(Y,Y_PRED)).mean() #mean squared error\n",
        "\n",
        "print(\"INPUT = \",X)\n",
        "print(\"OUTPUT= \",Y)\n",
        "print(\"FINAL WEIGHT= \",w_final)\n",
        "print(\"FINAL BIAS= \", b_final)\n",
        "print(\"FINAL MSE= \", MSE)\n",
        "plt.scatter(X, Y, label = \"ACTUAL DATA\")\n",
        "plt.plot(X, Y_PRED, color = 'r', label = \"REGRESSION LINE\")\n",
        "plt.title(\"LINEAR REGRESSION USING SLP\")\n",
        "plt.xlabel(\"X\")\n",
        "plt.ylabel(\"Y\")\n",
        "plt.legend()\n",
        "plt.show()"
      ],
      "execution_count": 15,
      "outputs": [
        {
          "output_type": "stream",
          "text": [
            "INPUT =  [  1   2   3   4   5   6   7   8   9  10  11  12  13  14  15  16  17  18\n",
            "  19  20  21  22  23  24  25  26  27  28  29  30  31  32  33  34  35  36\n",
            "  37  38  39  40  41  42  43  44  45  46  47  48  49  50  51  52  53  54\n",
            "  55  56  57  58  59  60  61  62  63  64  65  66  67  68  69  70  71  72\n",
            "  73  74  75  76  77  78  79  80  81  82  83  84  85  86  87  88  89  90\n",
            "  91  92  93  94  95  96  97  98  99 100]\n",
            "OUTPUT=  [4, 15, 11, 20, 25, 25, 22, 29, 32, 32, 38, 37, 44, 48, 46, 54, 56, 58, 63, 69, 64, 67, 76, 77, 81, 84, 91, 89, 89, 94, 99, 102, 100, 107, 115, 110, 120, 124, 120, 124, 127, 127, 137, 138, 144, 145, 145, 149, 156, 160, 162, 165, 167, 169, 174, 176, 177, 180, 186, 190, 193, 196, 190, 197, 201, 201, 210, 206, 211, 213, 214, 218, 222, 230, 235, 231, 236, 243, 246, 249, 244, 251, 259, 259, 264, 266, 262, 267, 272, 278, 281, 286, 280, 285, 294, 296, 301, 302, 307, 303]\n",
            "FINAL WEIGHT=  3.094030785253172\n",
            "FINAL BIAS=  0.06160518952109912\n",
            "FINAL MSE=  14.428598538250233\n"
          ],
          "name": "stdout"
        },
        {
          "output_type": "display_data",
          "data": {
            "image/png": "[encoded data removed]",
            "text/plain": [
              "<Figure size 432x288 with 1 Axes>"
            ]
          },
          "metadata": {
            "tags": [],
            "needs_background": "light"
          }
        }
      ]
    }
  ]
}