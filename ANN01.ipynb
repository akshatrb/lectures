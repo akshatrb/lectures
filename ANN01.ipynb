{
  "nbformat": 4,
  "nbformat_minor": 0,
  "metadata": {
    "colab": {
      "name": "ANN01.ipynb",
      "provenance": [],
      "authorship_tag": "ABX9TyPk9aqSKZu1iUhDbyGsuYVT",
      "include_colab_link": true
    },
    "kernelspec": {
      "name": "python3",
      "display_name": "Python 3"
    },
    "language_info": {
      "name": "python"
    }
  },
  "cells": [
    {
      "cell_type": "markdown",
      "metadata": {
        "id": "view-in-github",
        "colab_type": "text"
      },
      "source": [
        "<a href=\"https://colab.research.google.com/github/akshatrb/lectures/blob/main/ANN01.ipynb\" target=\"_parent\"><img src=\"https://colab.research.google.com/assets/colab-badge.svg\" alt=\"Open In Colab\"/></a>"
      ]
    },
    {
      "cell_type": "markdown",
      "metadata": {
        "id": "qbS6ZZvybqtB"
      },
      "source": [
        "ANN Practical 01\n",
        "\n",
        "Topic: MP Neuron"
      ]
    },
    {
      "cell_type": "code",
      "metadata": {
        "id": "fnWtojT6WmI8"
      },
      "source": [
        "def andg(a, b):\n",
        "  w1=1\n",
        "  w2=1\n",
        "  g=w1*a + w2*b\n",
        "  if g>= 2:\n",
        "    print(\"Y=1\")\n",
        "  else:\n",
        "    print(\"Y=0\")"
      ],
      "execution_count": 8,
      "outputs": []
    },
    {
      "cell_type": "code",
      "metadata": {
        "id": "Rkw6JTVSYV5k"
      },
      "source": [
        "def org(a, b):\n",
        "  w1=1\n",
        "  w2=1\n",
        "  g=w1*a + w2*b\n",
        "  if g>=1:\n",
        "    print(\"Y=1\")\n",
        "  else:\n",
        "    print(\"Y=0\")"
      ],
      "execution_count": 9,
      "outputs": []
    },
    {
      "cell_type": "code",
      "metadata": {
        "id": "cCxQy1MoYnHx"
      },
      "source": [
        "def notg(a):\n",
        "  w1=-1\n",
        "  g=w1*a\n",
        "  if g>=0:\n",
        "    print(\"Y=1\")\n",
        "  else:\n",
        "    print(\"Y=0\")"
      ],
      "execution_count": 10,
      "outputs": []
    },
    {
      "cell_type": "code",
      "metadata": {
        "id": "IEOCLJuWY1-F"
      },
      "source": [
        "def norg(a, b):\n",
        "  w1=1\n",
        "  w2=1\n",
        "  g=w1*a + w2*b\n",
        "  if g<1:\n",
        "    print(\"Y=1\")\n",
        "  else:\n",
        "    print(\"Y=0\")"
      ],
      "execution_count": 11,
      "outputs": []
    },
    {
      "cell_type": "code",
      "metadata": {
        "id": "chXEpuEPZcfy"
      },
      "source": [
        "def nandg(a, b):\n",
        "  w1=1\n",
        "  w2=2\n",
        "  g=w1*a + w2*b\n",
        "  if g<2:\n",
        "    print(\"Y=1\")\n",
        "  else:\n",
        "    print(\"Y=0\")"
      ],
      "execution_count": 12,
      "outputs": []
    },
    {
      "cell_type": "code",
      "metadata": {
        "colab": {
          "base_uri": "https://localhost:8080/"
        },
        "id": "pLpEN2MHZw04",
        "outputId": "5922d81a-9304-4b42-e664-500a54e42c4b"
      },
      "source": [
        "s = int(input(\"Select Gate: 1:AND 2:OR 3:NOT 4:NOR 5:NAND \\n\"))"
      ],
      "execution_count": 23,
      "outputs": [
        {
          "output_type": "stream",
          "text": [
            "Select Gate: 1:AND 2:OR 3:NOT 4:NOR 5:NAND \n",
            "4\n"
          ],
          "name": "stdout"
        }
      ]
    },
    {
      "cell_type": "code",
      "metadata": {
        "colab": {
          "base_uri": "https://localhost:8080/"
        },
        "id": "YO_TGcsdaL3W",
        "outputId": "a82858e0-b4ac-4c29-c178-041f0a9ae08d"
      },
      "source": [
        "if s>5 or s<1:\n",
        "  print(\"Incorrect option\")\n",
        "\n",
        "if s==1:\n",
        "  a=int(input(\"Enter input 1 in binary\"))\n",
        "  b=int(input(\"Enter input 2 in binary\"))\n",
        "  if((a==1 or a==0) and (b==1 or b==0)):\n",
        "    andg(a, b)\n",
        "  else:\n",
        "    print(\"Invalid input\")\n",
        "if s==2:\n",
        "  a=int(input(\"Enter input 1 in binary\"))\n",
        "  b=int(input(\"Enter input 2 in binary\"))\n",
        "  org(a, b)\n",
        "if s==3:\n",
        "  a=int(input(\"Enter input 1 in binary\"))\n",
        "  notg(a)\n",
        "if s==4:\n",
        "  a=int(input(\"Enter input 1 in binary\"))\n",
        "  b=int(input(\"Enter input 2 in binary\"))\n",
        "  norg(a, b)\n",
        "if s==5:\n",
        "  a=int(input(\"Enter input 1 in binary\"))\n",
        "  b=int(input(\"Enter input 2 in binary\"))\n",
        "  nandg(a, b)"
      ],
      "execution_count": 24,
      "outputs": [
        {
          "output_type": "stream",
          "text": [
            "Enter input 1 in binary1\n",
            "Enter input 2 in binary0\n",
            "Y=0\n"
          ],
          "name": "stdout"
        }
      ]
    }
  ]
}